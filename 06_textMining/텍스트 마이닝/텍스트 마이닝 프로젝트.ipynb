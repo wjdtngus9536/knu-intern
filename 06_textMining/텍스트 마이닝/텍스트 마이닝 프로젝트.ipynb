{
 "cells": [
  {
   "cell_type": "code",
   "execution_count": 3,
   "id": "7c7ba453",
   "metadata": {},
   "outputs": [],
   "source": [
    "import sys\n",
    "import os\n",
    "import pandas as pd\n",
    "import numpy as np\n",
    "\n",
    "from bs4 import BeautifulSoup\n",
    "from selenium import webdriver\n",
    "import time\n",
    "import tqdm\n",
    "from tqdm import tqdm_notebook"
   ]
  },
  {
   "cell_type": "code",
   "execution_count": 5,
   "id": "c28b94aa",
   "metadata": {},
   "outputs": [],
   "source": [
    "query_txt=\"칼부림\"\n",
    "start_date=\"20230731\"\n",
    "end_date=\"20200804\"\n",
    "\n",
    "path = \"chromedriver.exe\"\n",
    "\n",
    "driver = webdriver.Chrome(path)\n",
    "driver.get('http://www.naver.com')\n",
    "time.sleep(2)\n",
    "\n",
    "element = driver.find_element_by_id(\"query\")\n",
    "element.send_keys(query_txt)\n",
    "element.submit()\n",
    "driver.find_element_by_link_text(\"뉴스\").click()"
   ]
  },
  {
   "cell_type": "code",
   "execution_count": 6,
   "id": "7ceb672e",
   "metadata": {},
   "outputs": [
    {
     "data": {
      "text/plain": [
       "'[2보] 대전 대덕구 고등학교서 칼부림…40대 교사 병원 이송'"
      ]
     },
     "execution_count": 6,
     "metadata": {},
     "output_type": "execute_result"
    }
   ],
   "source": [
    "titles = \"a.news_tit\"\n",
    "article_raw = driver.find_elements_by_css_selector(titles)\n",
    "article_raw[1].text"
   ]
  }
 ],
 "metadata": {
  "kernelspec": {
   "display_name": "Python 3 (ipykernel)",
   "language": "python",
   "name": "python3"
  },
  "language_info": {
   "codemirror_mode": {
    "name": "ipython",
    "version": 3
   },
   "file_extension": ".py",
   "mimetype": "text/x-python",
   "name": "python",
   "nbconvert_exporter": "python",
   "pygments_lexer": "ipython3",
   "version": "3.9.16"
  }
 },
 "nbformat": 4,
 "nbformat_minor": 5
}
