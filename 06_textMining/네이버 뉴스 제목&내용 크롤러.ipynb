{
 "cells": [
  {
   "cell_type": "code",
   "execution_count": 7,
   "id": "808fc244",
   "metadata": {},
   "outputs": [],
   "source": [
    "from selenium import webdriver\n",
    "import tqdm\n",
    "import time\n",
    "import pandas as pd"
   ]
  },
  {
   "cell_type": "code",
   "execution_count": 53,
   "id": "e56b3ea6",
   "metadata": {},
   "outputs": [
    {
     "name": "stdout",
     "output_type": "stream",
     "text": [
      "naver news link crawling...\n"
     ]
    },
    {
     "data": {
      "application/vnd.jupyter.widget-view+json": {
       "model_id": "c414079adcb3455593748a4b8fd22d1b",
       "version_major": 2,
       "version_minor": 0
      },
      "text/plain": [
       "  0%|          | 0/10 [00:00<?, ?it/s]"
      ]
     },
     "metadata": {},
     "output_type": "display_data"
    },
    {
     "name": "stdout",
     "output_type": "stream",
     "text": [
      "naver news content crawling...\n"
     ]
    },
    {
     "data": {
      "application/vnd.jupyter.widget-view+json": {
       "model_id": "d08dcc69d7d24197bd87fc0ee2429f83",
       "version_major": 2,
       "version_minor": 0
      },
      "text/plain": [
       "  0%|          | 0/100 [00:00<?, ?it/s]"
      ]
     },
     "metadata": {},
     "output_type": "display_data"
    }
   ],
   "source": [
    "# 변수\n",
    "keyword = '칼부림' # 키워드 지정\n",
    "news_titles = []\n",
    "news_urls = []\n",
    "news_contents = []\n",
    "\n",
    "\n",
    "# 네이버 켜기\n",
    "driver = webdriver.Chrome()\n",
    "driver.get('http://www.naver.com')\n",
    "# 검색창에 입력\n",
    "search = driver.find_element_by_id('query')\n",
    "search.send_keys(keyword)\n",
    "search.submit()\n",
    "# 검색 결과 창에서 뉴스 버튼 클릭\n",
    "driver.find_element_by_link_text('뉴스').click()\n",
    "\n",
    "# 1 ~ 10 page까지\n",
    "totalPage = 10\n",
    "print('naver news link crawling...')\n",
    "for i in tqdm.tqdm_notebook(range(totalPage)):\n",
    "    url = 'https://search.naver.com/search.naver?where=news&sm=tab_pge&query={0}&sort=0&photo=0&field=0&pd=3&ds=2023.08.03&de=2023.08.04&cluster_rank=28&mynews=0&office_type=0&office_section_code=0&news_office_checked=&nso=so:r,p:from20230803to20230804,a:all&start={1}1'.format(keyword, i)\n",
    "    driver.get(url)\n",
    "    \n",
    "    # 제목 크롤링\n",
    "    news_raw = driver.find_elements_by_css_selector('a.news_tit')\n",
    "    for news in news_raw:\n",
    "        title = news.text\n",
    "        news_titles.append(title)\n",
    "        \n",
    "    # 네이버 뉴스 링크 크롤링\n",
    "    link_raw = driver.find_elements_by_css_selector('a.info')\n",
    "    for link in link_raw:\n",
    "        if link.text == '네이버뉴스':\n",
    "            news_urls.append(link.get_attribute('href'))\n",
    "\n",
    "print('naver news content crawling...')\n",
    "for news_url in tqdm.tqdm_notebook(news_urls):\n",
    "    driver.get(news_url)\n",
    "    news_contents.append(driver.find_elements_by_css_selector('#dic_area')[0].text)"
   ]
  },
  {
   "cell_type": "code",
   "execution_count": 52,
   "id": "86331835",
   "metadata": {},
   "outputs": [],
   "source": [
    "# csv 저장\n",
    "df = pd.DataFrame({'url':news_urls, 'title':news_titles, 'content':news_contents})\n",
    "df.to_csv('naver_news.csv', encoding = 'utf-8-sig')"
   ]
  },
  {
   "cell_type": "code",
   "execution_count": 54,
   "id": "8bfc8c3c",
   "metadata": {},
   "outputs": [],
   "source": [
    "# chrome 드라이버 닫기\n",
    "driver.close()"
   ]
  }
 ],
 "metadata": {
  "kernelspec": {
   "display_name": "Python 3 (ipykernel)",
   "language": "python",
   "name": "python3"
  },
  "language_info": {
   "codemirror_mode": {
    "name": "ipython",
    "version": 3
   },
   "file_extension": ".py",
   "mimetype": "text/x-python",
   "name": "python",
   "nbconvert_exporter": "python",
   "pygments_lexer": "ipython3",
   "version": "3.9.16"
  }
 },
 "nbformat": 4,
 "nbformat_minor": 5
}
