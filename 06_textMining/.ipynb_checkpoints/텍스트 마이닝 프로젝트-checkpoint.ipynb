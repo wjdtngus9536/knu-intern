{
 "cells": [
  {
   "cell_type": "markdown",
   "id": "0931158a",
   "metadata": {},
   "source": [
    "추가로 해볼 수 있는 것\n",
    "\n",
    "고도화 한다면 빈도수로 하지는 않음\n",
    "키워드마다 가중치를 준다\n",
    "- 화제성에 따른 가중치나 다양한 방식 존재  \n",
    "- 빈도수 이외의 통계 방법 적용 고려\n",
    "\n",
    "비정형 분석 - text mining\n",
    "word cloud & table 그리기\n",
    "\n",
    "1. keyword를 정하고 날짜만 길게 다르게 한다.\n",
    "\n",
    "2. 10페이지 까지만 가져오기\n",
    "\n",
    "3. 셋이서 500개 분량 정도\n",
    "\n",
    "추가적으로 해보고 싶은게 있으면 알려달라고 하심"
   ]
  },
  {
   "cell_type": "markdown",
   "id": "8837b3c9",
   "metadata": {},
   "source": [
    "1. 크롤링으로 제목, 컨텐츠 데이터 확보\n",
    "2. Cleaning(불용어, 동의어 사전 작성 등)\n",
    "3. 형태소 분석 통해 명사만 추출 Okt(Open Korean Text)\n",
    "4. 빈도 분석\n",
    "5. 시각화"
   ]
  },
  {
   "cell_type": "code",
   "execution_count": 31,
   "id": "7c7ba453",
   "metadata": {},
   "outputs": [],
   "source": [
    "import sys\n",
    "import os\n",
    "import pandas as pd\n",
    "import numpy as np\n",
    "\n",
    "from selenium import webdriver\n",
    "import time\n",
    "import tqdm\n",
    "from tqdm import tqdm_notebook"
   ]
  },
  {
   "cell_type": "code",
   "execution_count": 1,
   "id": "c28b94aa",
   "metadata": {},
   "outputs": [
    {
     "ename": "NameError",
     "evalue": "name 'webdriver' is not defined",
     "output_type": "error",
     "traceback": [
      "\u001b[1;31m---------------------------------------------------------------------------\u001b[0m",
      "\u001b[1;31mNameError\u001b[0m                                 Traceback (most recent call last)",
      "Cell \u001b[1;32mIn[1], line 10\u001b[0m\n\u001b[0;32m      5\u001b[0m end_date\u001b[38;5;241m=\u001b[39m\u001b[38;5;124m\"\u001b[39m\u001b[38;5;124m20200804\u001b[39m\u001b[38;5;124m\"\u001b[39m\n\u001b[0;32m      7\u001b[0m \u001b[38;5;66;03m# file 경로와 driver 경로를 같은 곳에 두는 경우 생략 가능\u001b[39;00m\n\u001b[0;32m      8\u001b[0m \u001b[38;5;66;03m# path = \"chromedriver.exe\"\u001b[39;00m\n\u001b[1;32m---> 10\u001b[0m driver \u001b[38;5;241m=\u001b[39m \u001b[43mwebdriver\u001b[49m\u001b[38;5;241m.\u001b[39mChrome()\n\u001b[0;32m     11\u001b[0m driver\u001b[38;5;241m.\u001b[39mget(\u001b[38;5;124m'\u001b[39m\u001b[38;5;124mhttp://www.naver.com\u001b[39m\u001b[38;5;124m'\u001b[39m)\n\u001b[0;32m     12\u001b[0m time\u001b[38;5;241m.\u001b[39msleep(\u001b[38;5;241m2\u001b[39m)\n",
      "\u001b[1;31mNameError\u001b[0m: name 'webdriver' is not defined"
     ]
    }
   ],
   "source": [
    "# selenium 입력용 변수\n",
    "query_txt=\"칼부림\"\n",
    "#\n",
    "start_date=\"20230731\"\n",
    "end_date=\"20200804\"\n",
    "\n",
    "# file 경로와 driver 경로를 같은 곳에 두는 경우 생략 가능\n",
    "# path = \"chromedriver.exe\"\n",
    "\n",
    "driver = webdriver.Chrome()\n",
    "driver.get('http://www.naver.com')\n",
    "time.sleep(2)\n",
    "\n",
    "element = driver.find_element_by_id(\"query\")\n",
    "element.send_keys(query_txt)\n",
    "element.submit()\n",
    "driver.find_element_by_link_text(\"뉴스\").click()"
   ]
  },
  {
   "cell_type": "code",
   "execution_count": 22,
   "id": "7ceb672e",
   "metadata": {},
   "outputs": [
    {
     "data": {
      "text/plain": [
       "'고속터미널역서 ‘흉기 소지’ 남성 체포…살인예고에 “특공대 배치”(종합)'"
      ]
     },
     "execution_count": 22,
     "metadata": {},
     "output_type": "execute_result"
    }
   ],
   "source": [
    "titles = \"a.news_tit\"\n",
    "article_raw = driver.find_elements_by_css_selector(titles)\n",
    "article_raw[0].text"
   ]
  },
  {
   "cell_type": "code",
   "execution_count": 16,
   "id": "bcc79053",
   "metadata": {},
   "outputs": [
    {
     "data": {
      "text/plain": [
       "'http://www.newsis.com/view/?id=NISX20230807_0002404478&cID=10814&pID=10800'"
      ]
     },
     "execution_count": 16,
     "metadata": {},
     "output_type": "execute_result"
    }
   ],
   "source": [
    "# overlays = \"._sp_each_url\" \n",
    "overlays = \"a.news_tit\" \n",
    "urls = driver.find_elements_by_css_selector(overlays)\n",
    "urls[0].get_attribute('href')"
   ]
  },
  {
   "cell_type": "code",
   "execution_count": 1,
   "id": "ee3a2af0",
   "metadata": {},
   "outputs": [
    {
     "ename": "NameError",
     "evalue": "name 'tqdm_notebook' is not defined",
     "output_type": "error",
     "traceback": [
      "\u001b[1;31m---------------------------------------------------------------------------\u001b[0m",
      "\u001b[1;31mNameError\u001b[0m                                 Traceback (most recent call last)",
      "Cell \u001b[1;32mIn[1], line 5\u001b[0m\n\u001b[0;32m      2\u001b[0m title_list \u001b[38;5;241m=\u001b[39m []\n\u001b[0;32m      4\u001b[0m total_page \u001b[38;5;241m=\u001b[39m \u001b[38;5;241m10\u001b[39m\n\u001b[1;32m----> 5\u001b[0m \u001b[38;5;28;01mfor\u001b[39;00m i \u001b[38;5;129;01min\u001b[39;00m \u001b[43mtqdm_notebook\u001b[49m(\u001b[38;5;28mrange\u001b[39m(\u001b[38;5;241m0\u001b[39m, total_page)):\n\u001b[0;32m      6\u001b[0m     i \u001b[38;5;241m=\u001b[39m i \u001b[38;5;241m*\u001b[39m \u001b[38;5;241m10\u001b[39m \u001b[38;5;241m+\u001b[39m \u001b[38;5;241m1\u001b[39m\n\u001b[0;32m      7\u001b[0m     url \u001b[38;5;241m=\u001b[39m \u001b[38;5;124m\"\u001b[39m\u001b[38;5;124mhttps://search.naver.com/search.naver?where=news&sm=tab_pge&query=\u001b[39m\u001b[38;5;132;01m%E\u001b[39;00m\u001b[38;5;124mC\u001b[39m\u001b[38;5;124m%\u001b[39m\u001b[38;5;124mB9\u001b[39m\u001b[38;5;124m%\u001b[39m\u001b[38;5;124mBC\u001b[39m\u001b[38;5;132;01m%E\u001b[39;00m\u001b[38;5;124mB\u001b[39m\u001b[38;5;124m%\u001b[39m\u001b[38;5;124mB6\u001b[39m\u001b[38;5;132;01m%80%\u001b[39;00m\u001b[38;5;124mEB\u001b[39m\u001b[38;5;124m%\u001b[39m\u001b[38;5;124mA6\u001b[39m\u001b[38;5;124m%\u001b[39m\u001b[38;5;124mBC&sort=0&photo=0&field=0&pd=0&ds=&de=&cluster_rank=30&mynews=0&office_type=0&office_section_code=0&news_office_checked=&nso=so:r,p:all,a:all&start=\u001b[39m\u001b[38;5;132;01m{1}\u001b[39;00m\u001b[38;5;124m1\u001b[39m\u001b[38;5;124m\"\u001b[39m\u001b[38;5;241m.\u001b[39mformat(query_txt, i)\n",
      "\u001b[1;31mNameError\u001b[0m: name 'tqdm_notebook' is not defined"
     ]
    }
   ],
   "source": [
    "url_list = []\n",
    "title_list = []\n",
    "\n",
    "total_page = 10\n",
    "for i in tqdm_notebook(range(0, total_page)):\n",
    "    i = i * 10 + 1\n",
    "    url = \"https://search.naver.com/search.naver?where=news&sm=tab_pge&query=%EC%B9%BC%EB%B6%80%EB%A6%BC&sort=0&photo=0&field=0&pd=0&ds=&de=&cluster_rank=30&mynews=0&office_type=0&office_section_code=0&news_office_checked=&nso=so:r,p:all,a:all&start={1}1\".format(query_txt, i)\n",
    "    driver.get(url)\n",
    "    time.sleep(0.5)\n",
    "    \n",
    "    \n",
    "    titles = \"a.news_tit\"\n",
    "    articles = \"a.news_tit\"\n",
    "    article_raw = driver.find_elements_by_css_selector(titles)\n",
    "    article_list = driver.find_elements_by_css_selector(articles)\n",
    "   \n",
    "    # url 크롤링 시작\n",
    "    for article in article_raw:\n",
    "        url = article.get_attribute('href')   \n",
    "        url_list.append(url)\n",
    "    \n",
    "    # 제목 크롤링 시작    \n",
    "    for article in article_raw:\n",
    "        title = article.text   \n",
    "        title_list.append(title)\n",
    "    \n",
    "        print(title)\n",
    "    \n",
    "print('url갯수: ', len(url_list))\n",
    "\n",
    "df = pd.DataFrame({'url':url_list, 'title':title_list})\n",
    "\n",
    "# 저장하기\n",
    "df.to_csv(\"news_url.csv\")"
   ]
  },
  {
   "cell_type": "markdown",
   "id": "cecf9250",
   "metadata": {},
   "source": [
    "## 네이버 뉴스 텍스트 분석 "
   ]
  },
  {
   "cell_type": "code",
   "execution_count": 25,
   "id": "bb110d4c",
   "metadata": {},
   "outputs": [],
   "source": [
    "import scipy as sp\n",
    "import pandas as dp\n",
    "import numpy as np\n",
    "\n",
    "from sklearn.feature_extraction.text import CountVectorizer\n",
    "from sklearn.feature_extraction.text import TfidfVectorizer\n",
    "from sklearn.linear_model import LogisticRegression\n",
    "from sklearn.pipeline import Pipeline\n",
    "from sklearn.metrics import accuracy_score\n",
    "from sklearn.model_selection import train_test_split\n",
    "\n",
    "%matplotlib inline\n",
    "import os\n",
    "import matplotlib.pyplot as plt\n",
    "import seaborn as sns\n",
    "import graphviz\n",
    "from sklearn.tree import export_graphviz\n",
    "\n",
    "# 그래프에서 한글 폰트 깨지는 문제(전역 글꼴 설정)\n",
    "from matplotlib import font_manager, rc\n",
    "font_name = font_manager.FontProperties(fname = 'C:\\Windows\\Fonts\\malgun.ttf').get_name()\n",
    "rc('font', family = font_name)\n",
    "\n",
    "# 워닝 없애주기\n",
    "import warnings\n",
    "\n",
    "# 한글 자연어 처리 라이브러리\n",
    "from konlpy.tag import Kkma\n",
    "from konlpy.tag import Hannanum\n",
    "from konlpy.tag import Okt\n",
    "from konlpy.tag import *\n",
    "import pickle\n",
    "\n",
    "kkma = Kkma()\n",
    "hannanum = Hannanum()\n",
    "t = Okt()"
   ]
  },
  {
   "cell_type": "code",
   "execution_count": 29,
   "id": "2479dad3",
   "metadata": {},
   "outputs": [
    {
     "name": "stdout",
     "output_type": "stream",
     "text": [
      "0               분당 칼부림도, 교사 습격도… ‘치료 거부한 정신질환자’\n",
      "1        \"원주역서 칼부림\" 글 쓰고 \"제보한다\" 퍼뜨린 10대 붙잡혀(종합)\n",
      "2                 \"고양 상가서 칼부림하겠다\" 예고글 올린 10대 검거\n",
      "3         [인터뷰] 범죄학자 \"칼부림 막는데 장갑차? 불안만 자극…과유불급\"\n",
      "4        '나도 관심 받을 수 있을까?'…'칼부림 예고'한 10대들 경찰 덜미\n",
      "                        ...                    \n",
      "95                        칼부림 예고 글, 보안 강화된 지하철역\n",
      "96    '살인예고, 올리면 잡힌다'…경찰 \"19명 검거·협박 죄 등 처벌\"(종합)\n",
      "97                   [1보]대전 대덕구 고등학교서 칼부림…교사 피습\n",
      "98              [사설] 누구나 표적되는 ‘묻지마 칼부림’이 일상인 세상\n",
      "99       \"우려가 현실로\"…서현 '묻지마 칼부림'에 시민들 '비명' [현장+]\n",
      "Name: title, Length: 100, dtype: object\n"
     ]
    }
   ],
   "source": [
    "df_r = pd.read_csv('news_url.csv')\n",
    "print(df_r['title'])"
   ]
  }
 ],
 "metadata": {
  "kernelspec": {
   "display_name": "Python 3 (ipykernel)",
   "language": "python",
   "name": "python3"
  },
  "language_info": {
   "codemirror_mode": {
    "name": "ipython",
    "version": 3
   },
   "file_extension": ".py",
   "mimetype": "text/x-python",
   "name": "python",
   "nbconvert_exporter": "python",
   "pygments_lexer": "ipython3",
   "version": "3.9.16"
  }
 },
 "nbformat": 4,
 "nbformat_minor": 5
}
