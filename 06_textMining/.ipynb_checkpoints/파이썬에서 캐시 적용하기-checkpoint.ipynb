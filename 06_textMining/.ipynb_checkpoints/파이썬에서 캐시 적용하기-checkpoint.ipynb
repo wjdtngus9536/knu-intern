{
 "cells": [
  {
   "cell_type": "markdown",
   "id": "1514718e",
   "metadata": {},
   "source": [
    "# 파이썬에서 캐시 적용하기 (feat. @cache, @lru_cache) "
   ]
  },
  {
   "cell_type": "markdown",
   "id": "f0502e5c",
   "metadata": {},
   "source": [
    "하드웨어와 소프트웨어를 불문하고 Caching(캐싱)은 정말 광범위하게 다양한 형태로 활용되고 있는 성능 최적화 기법입니다.\n",
    "이번 포스팅에서는 파이썬으로 프로그래밍 할 때는 어떻게 캐시를 적용할 수 있는지 알아보도록 하겠습니다."
   ]
  },
  {
   "cell_type": "markdown",
   "id": "72638168",
   "metadata": {},
   "source": [
    "## 캐싱이란?\n",
    "\n",
    "일반적으로 캐싱은 접근하는데 시간이 오래 걸리는 데이터를 접근 속도가 빠른 저장소에 사본을 저장해두고 재사용하거나, 실행하는데 오래 걸리는 연산의 결과를 미리 계산해놓고 최초로 필요할 때 한번만 계산하여 저장해놓고 재사용하는 기법을 의미합니다.\n",
    "\n",
    "예를 들어, 대부분의 웹 브라우저는 클라이언트 컴퓨터에 캐시를 두고 있는데요. 이 캐시에 이 전에 방문했던 웹페이지의 내용을 저장해놓고 동일한 페이지를 재방문 시 이 저장해놓은 사본의 페이지를 보여주는 경우가 많습니다. 이렇게 함으로써 불필요한 HTTP 통신을 줄이고, 좀 더 기민한 웹 브라우징 경험을 제공할 수 있는 것이지요.\n",
    "\n",
    "캐싱은 서버 단에서도 성능 최적화를 위한 핵심 도구로 사용되고 있습니다. 예를 들어, 클라이언트로 부터 받은 요청에 대한 처리 결과를 캐시에 저장해두고, 나중에 동일한 요청이 들어왔을 때 저장해둔 결과를 그대로 응답하는 것은 매우 흔한 서버 단의 캐싱 패턴입니다.\n",
    "\n",
    "뿐만 아니라 캐싱은 데이터베이스와 같은 핵심적인 서버 자원을 과부하로 부터 보호하기 위해서도 사용할 수 있습니다.\n",
    "애플리케이션에서 데이터베이스로 부터 불러온 데이터를 캐시에 저장해 놓고 재사용해준다면 중복 쿼리가 줄어 데이터베이스 입장에서 동시에 처리해야하는 부담이 현저히 줄어들 것입니다.\n",
    "\n",
    "하드웨어 쪽에서는 캐싱이 고성능 저장 매체와 저성능 저장 매체 사이의 속도 차이로 인한 성능 손실을 최소화 하기 위해서 많이 사용됩니다. 대표적인 예로, CPU와 RAM 사이에 있는 CPU 캐시를 들 수 있는데요. 하드 디스크(HDD, SSD)의 일부 용량을 마치 메모리처럼 사용하는 가상 메모리 전략도 비슷한 맥락으로 볼 수가 있겠습니다.  \n",
    "\n",
    "네트워크 쪽에서는 프록시(Proxy) 서버나 CDN(Content Delevery Network)을 대표적인 캐싱 사례로 들 수 있겠네요. 유저와 최대한 가까운 CDN 노드(node)에 이미지나 비디오 같이 고용량 데이터의 사본을 저장해놓으면, 굳이 지리적으로 멀리 있는 서버로 부터 원본 데이터를 다운도르를 받을 필요가 없을 것입니다."
   ]
  },
  {
   "cell_type": "markdown",
   "id": "a0116493",
   "metadata": {},
   "source": [
    "## 메모이제이션 \n",
    "\n",
    "가장 원초적인 형태의 캐싱으로 소위 메모이제이션(memoization)이라고 일컫는 저장 공간에 별도의 상한선을 두지 않는 캐싱 방법을 생각할 수 있습니다. 메모이제이션은 특히 코딩 시험에서 재귀 알고리즘의 성능을 최적화하기 위해서 자주 사용되곤 합니다.\n",
    "\n",
    "메모이제이션을 구현할 때는 일반적으로 해시 테이블 자료구조를 사용하여 함수가 첫번째 호출될 때 호출 결과를 저장해놓고 두번째 호출부터는 기존에 저장된 결과를 재사용합니다.\n",
    "\n",
    "그럼 간단한 예제 코드를 통해서 메모이제이션 기법이 어떤 느낌인지 살짝 맛만 볼까요?\n",
    "\n",
    "```python\n",
    "# 사용자 가져오기\n",
    "def fetch_user(user_id):\n",
    "    print(f'DB에서 아이디가 {user_id}인 사용자 정보를 읽어오고 있습니다...')\n",
    "    return{\n",
    "        'userid': user_id,\n",
    "        'email': f'{user_id}@test.com',\n",
    "        'password': 'test1234'\n",
    "    }\n",
    "\n",
    "def get_user(user_id):\n",
    "    return fetch_user(user_id)\n",
    "```"
   ]
  },
  {
   "cell_type": "markdown",
   "id": "7b77b88a",
   "metadata": {},
   "source": [
    "두 개의 함수를 작성하였습니다. 첫번째 `fetch_user()` 함수는 사용자 아이디를 인자로 받아 해당 아이디에 해당하는 사용자 정보를 데이터베이스에서 읽어오는 척(?)하는 함수이고, 두번째 `get_user()` 함수는 단순히 넘어온 인자를 그대로 첫번째 함수로 넘겨 호출한 결과를 반환하는 함수입니다.\n",
    "\n",
    "그 다음, 이 `get_user()` 함수를 3개 사용자 아이디 중 하나를 랜덤하게 인자로 넘겨서 10회 호출해보겠습니다.\n",
    "\n",
    "```python\n",
    "if __name__ == '__main__':\n",
    "    from random import choice\n",
    "    \n",
    "    for i in range(10):\n",
    "        get_user(user_id = choice(['A10','B02','C03'])\n",
    "```\n",
    "\n",
    "그러면 아래와 같이 fetch_user() 함수도 동일하게 10회 호출 되는 것을 볼 수 있습니다.\n",
    "\n",
    "```plain text\n",
    "DB에서 아이디가 B02인 사용자 정보를 읽어오고 있습니다...\n",
    "DB에서 아이디가 A01인 사용자 정보를 읽어오고 있습니다...\n",
    "DB에서 아이디가 A01인 사용자 정보를 읽어오고 있습니다...\n",
    "DB에서 아이디가 C03인 사용자 정보를 읽어오고 있습니다...\n",
    "DB에서 아이디가 A01인 사용자 정보를 읽어오고 있습니다...\n",
    "DB에서 아이디가 C03인 사용자 정보를 읽어오고 있습니다...\n",
    "DB에서 아이디가 C03인 사용자 정보를 읽어오고 있습니다...\n",
    "DB에서 아이디가 B02인 사용자 정보를 읽어오고 있습니다...\n",
    "DB에서 아이디가 B02인 사용자 정보를 읽어오고 있습니다...\n",
    "DB에서 아이디가 A01인 사용자 정보를 읽어오고 있습니다...\n",
    "```\n",
    "\n",
    "콘솔에 출력된 내용을 보면 3명의 사용자 정보를 3~4번 가상의 데이터베이스를 통해서 불러오고 있는데요.\n",
    "\n",
    "여기서 메모이제이션을 활용하면 각 사용자에 대해서 딱 한번씩만 데이터베이스에 다녀올 수 있게 됩니다. 파이썬에서 메모이제이션은 사전(dictionary)이라는 내장 자료구조를 이용하면 어렵지 않게 구현할 수 있습니다.\n",
    "\n",
    "```python\n",
    "cache = {}\n",
    "\n",
    "def get_user(user_id):\n",
    "    if user_id no in cache:\n",
    "        cache[user_id] = fetch_user(user_id)\n",
    "    return cache[user_id]\n",
    "```\n",
    "\n",
    "다시 동일한 방법으로 get_user() 함수를 10회 호출을 해보면, 이번에는 딱 3번만 데이터베이스에 접근하는 것을 알 수 있습니다.\n"
   ]
  },
  {
   "cell_type": "markdown",
   "id": "d9a9d342",
   "metadata": {},
   "source": [
    "## @cache 데코레이터\n",
    "\n",
    "메모이제이션을 직접 구현하는 것이 위에서 보여드릴 것처럼 그닥 어렵지는 않지만 파이썬의 `@cache` 데코레이터를 활용하면 더 깔끔하게 처리할 수 있습니다.\n",
    "\n",
    "`@cache` 라는 데코레이터는 파이썬에 내장된 `functools` 모듈로 부터 불러올 수 있으며 함수를 대상으로 사용합니다.\n",
    "`@cache` 데코레이터를 어떤 함수 위에 선언하면, 그 함수에 넘어온 인자를 키(key)로 그리고 함수의 호출 결과를 값(value)으로 메모이제이션이 적용됩니다.\n",
    "\n",
    "예를 들어, 맨 처음에 작성했던 `get_user()` 함수에 `@cache` 데코레이터를 적용해보겠습니다."
   ]
  },
  {
   "cell_type": "code",
   "execution_count": 14,
   "id": "6d83e76d",
   "metadata": {},
   "outputs": [],
   "source": [
    "from functools import cache\n",
    "\n",
    "def fetch_user(user_id):\n",
    "    print(f'DB에서 아이디가 {user_id}인 사용자 정보를 읽어오고 있습니다.')\n",
    "    return {\n",
    "        'userId': user_id,\n",
    "        'email': f'{user_id}@test.com',\n",
    "        'password': 'test1234'\n",
    "    }\n",
    "\n",
    "@cache\n",
    "def get_user(user_id):\n",
    "    return fetch_user(user_id)"
   ]
  },
  {
   "cell_type": "code",
   "execution_count": 10,
   "id": "637506b5",
   "metadata": {},
   "outputs": [
    {
     "name": "stdout",
     "output_type": "stream",
     "text": [
      "DB에서 아이디가 B02인 사용자 정보를 읽어오고 있습니다.\n",
      "DB에서 아이디가 A01인 사용자 정보를 읽어오고 있습니다.\n",
      "DB에서 아이디가 C03인 사용자 정보를 읽어오고 있습니다.\n"
     ]
    }
   ],
   "source": [
    "if __name__ == '__main__':\n",
    "    from random import choice\n",
    "    \n",
    "    for i in range(10):\n",
    "        get_user(user_id = choice(['A01','B02','C03']))"
   ]
  },
  {
   "cell_type": "markdown",
   "id": "1fc64df9",
   "metadata": {},
   "source": [
    "## 해싱 전략\n",
    "\n",
    "코딩 시험이 아닌 실전 코딩에서는 메모이제이션을 사용할 수 있는 경우는 극히 제한적인데요. 일회성으로 실행되는 스크립트에서는 사용해봄직 하겠지만 상용 소프트웨어에서 모제한으로 늘어날 수 있는 캐시를쓰는 경우는 많이 않을 것입니다.\n",
    "\n",
    "일반적으로 캐싱을 위해 사용되는 저장 매체는 접근 속도가 빨라야 하므로 가격이 자연스럽게 비싸질 수 밖에 없는데요. 따라서 용량이 제한된 고가의 저장매체를 최대한 효과적으로 사용하기 위해서 캐싱 전략에 대해서 생각을 해봐야합니다.\n",
    "\n",
    "캐싱 전략이란 쉽게 말해 캐시 용량이 꽉 찼을 때 어떤 데이터는 캐시에 남겨두고 어떤 데이터는 지워야할지에 대한 접근 방법을 뜻합니다.\n",
    "\n",
    "많은 캐싱 전략이 있지만 그 중에서 가장 많이 알려진 것은 LRU(Least Recently Used)일 것입니다.  \n",
    "LRU는 __\"최근에 사용된 데이터일수록 앞으로도 사용될 가능성이 높다\"__ 라는 가설을 바탕으로 고안된 캐싱 전략입니다.  \n",
    "따라서, LRU 캐싱 전략에서는 가장 오랫동안 사용되지 않은 데이터를 우선적으로 캐시에서 삭제하여 여유 공간을 확보합니다."
   ]
  },
  {
   "cell_type": "markdown",
   "id": "12ec153a",
   "metadata": {},
   "source": [
    "## @lru_cache 데코레이터\n",
    "\n",
    "LRU 캐시를 직접 구현해보신 분은 아시겠지만 사실 LRU 캐싱 전략을 사용하는 캐시를 직접 구현하는 것은 그리 만만한 일이 아닙니다. 다행히도 파이썬에서는 메모리 기반 LRU 캐시를 좀 더 손쉽게 사용할 수 있도록 `@lru_cache` 라는 데코레이터를 제공해주고 있습니다.\n",
    "\n",
    "`@lru_cache` 데코레이터는 @cache와 마찬가지로 `functools` 내장 모듈로 부터 불러올 수 있습니다. `@lru_cache` 데코레이터를 어떤 함수 위에 선언하여 사용하면, 그 함수에 넘어온 인자를 키(key)로 그리고 함수의 호출 결과를 값(value)으로 LRU 캐싱이 적용됩니다."
   ]
  },
  {
   "cell_type": "code",
   "execution_count": 13,
   "id": "ed185afe",
   "metadata": {},
   "outputs": [
    {
     "name": "stdout",
     "output_type": "stream",
     "text": [
      "DB에서 아이디가 A01인 사용자 정보를 읽어오고 있습니다...\n",
      "DB에서 아이디가 B02인 사용자 정보를 읽어오고 있습니다...\n",
      "CacheInfo(hits=8, misses=2, maxsize=128, currsize=2)\n"
     ]
    }
   ],
   "source": [
    "from functools import lru_cache\n",
    "\n",
    "def fetch_user(user_id):\n",
    "    print(f'DB에서 아이디가 {user_id}인 사용자 정보를 읽어오고 있습니다...')\n",
    "    return {\n",
    "        'userId': user_id,\n",
    "        'email': f'{user_id}@test.com',\n",
    "        'password': 'test1234'\n",
    "    }\n",
    "\n",
    "@lru_cache\n",
    "def get_user(user_id):\n",
    "    return fetch_user(user_id)\n",
    "\n",
    "if __name__ == '__main__':\n",
    "    from random import choice\n",
    "    \n",
    "    for i in range(10):\n",
    "        get_user(user_id = choice(['A01','B02','C03']))\n",
    "    \n",
    "    # 캐시 관련 정보 확인\n",
    "    print(get_user.cache_info())"
   ]
  },
  {
   "cell_type": "markdown",
   "id": "44b2daf3",
   "metadata": {},
   "source": [
    "[출처: Daleseo.com](https://www.daleseo.com/python-cache/)"
   ]
  }
 ],
 "metadata": {
  "kernelspec": {
   "display_name": "Python 3 (ipykernel)",
   "language": "python",
   "name": "python3"
  },
  "language_info": {
   "codemirror_mode": {
    "name": "ipython",
    "version": 3
   },
   "file_extension": ".py",
   "mimetype": "text/x-python",
   "name": "python",
   "nbconvert_exporter": "python",
   "pygments_lexer": "ipython3",
   "version": "3.9.16"
  }
 },
 "nbformat": 4,
 "nbformat_minor": 5
}
