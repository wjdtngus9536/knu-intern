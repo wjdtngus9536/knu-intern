{
 "cells": [
  {
   "cell_type": "code",
   "execution_count": 17,
   "id": "808fc244",
   "metadata": {},
   "outputs": [],
   "source": [
    "from selenium import webdriver\n",
    "from functools import *\n",
    "\n",
    "import tqdm\n",
    "import time\n",
    "import pandas as pd"
   ]
  },
  {
   "cell_type": "code",
   "execution_count": 18,
   "id": "e456a92c",
   "metadata": {},
   "outputs": [],
   "source": [
    "@lru_cache\n",
    "def get_naver_news_url(link):\n",
    "        return link.get_attribute('href')\n",
    "    \n",
    "@lru_cache\n",
    "def get_news_content(news_url):\n",
    "    driver.get(news_url)\n",
    "    return driver.find_elements_by_css_selector('#dic_area')[0].text"
   ]
  },
  {
   "cell_type": "code",
   "execution_count": 21,
   "id": "e56b3ea6",
   "metadata": {},
   "outputs": [
    {
     "data": {
      "application/vnd.jupyter.widget-view+json": {
       "model_id": "b5515b492e97453baed8f729503c44bd",
       "version_major": 2,
       "version_minor": 0
      },
      "text/plain": [
       "  0%|          | 0/10 [00:00<?, ?it/s]"
      ]
     },
     "metadata": {},
     "output_type": "display_data"
    },
    {
     "name": "stdout",
     "output_type": "stream",
     "text": [
      "\n",
      "url로 내용 크롤링 중...\n"
     ]
    },
    {
     "data": {
      "application/vnd.jupyter.widget-view+json": {
       "model_id": "59af523280864686988cefd7527c6bbf",
       "version_major": 2,
       "version_minor": 0
      },
      "text/plain": [
       "  0%|          | 0/100 [00:00<?, ?it/s]"
      ]
     },
     "metadata": {},
     "output_type": "display_data"
    },
    {
     "name": "stdout",
     "output_type": "stream",
     "text": [
      "CacheInfo(hits=205, misses=95, maxsize=128, currsize=95)\n"
     ]
    }
   ],
   "source": [
    "if __name__ == '__main__':\n",
    "    \n",
    "    # 변수\n",
    "    keyword = '칼부림' # 키워드 지정\n",
    "    news_titles = []\n",
    "    news_urls = []\n",
    "    news_contents = []\n",
    "    totalPage = 10\n",
    "\n",
    "    # 네이버 켜기\n",
    "    driver = webdriver.Chrome()\n",
    "    driver.get('http://www.naver.com')\n",
    "\n",
    "    # 검색창에 입력\n",
    "    search = driver.find_element_by_id('query')\n",
    "    search.send_keys(keyword)\n",
    "    search.submit()\n",
    "\n",
    "    # 검색 결과 창에서 뉴스 버튼 클릭\n",
    "    driver.find_element_by_link_text('뉴스').click()\n",
    "\n",
    "    # 1 ~ 10 page까지\n",
    "    for i in tqdm.tqdm_notebook(range(totalPage)):\n",
    "        url = 'https://search.naver.com/search.naver?where=news&sm=tab_pge&query={0}&sort=0&photo=0&field=0&pd=3&ds=2023.08.03&de=2023.08.04&cluster_rank=28&mynews=0&office_type=0&office_section_code=0&news_office_checked=&nso=so:r,p:from20230803to20230804,a:all&start={1}1'.format(keyword, i)\n",
    "        driver.get(url)\n",
    "\n",
    "        # 제목 크롤링\n",
    "        news_raw = driver.find_elements_by_css_selector('a.news_tit')\n",
    "        for news in news_raw:\n",
    "            title = news.text\n",
    "            news_titles.append(title)\n",
    "\n",
    "        # 네이버 뉴스 포멧으로 url 크롤링\n",
    "        link_raw = driver.find_elements_by_css_selector('a.info')\n",
    "        for link in link_raw:\n",
    "            if link.text == '네이버뉴스':\n",
    "                news_urls.append(get_naver_news_url(link))\n",
    "    \n",
    "    print('\\nurl로 내용 크롤링 중...')\n",
    "    for news_url in tqdm.tqdm_notebook(news_urls):\n",
    "        content = get_news_content(news_url)\n",
    "        news_contents.append(content)\n",
    "\n",
    "    print(get_news_content.cache_info())\n",
    "    #     driver.get(news_url)\n",
    "    #     news_contents.append(driver.find_elements_by_css_selector('#dic_area')[0].text)"
   ]
  },
  {
   "cell_type": "code",
   "execution_count": 22,
   "id": "86331835",
   "metadata": {},
   "outputs": [],
   "source": [
    "# csv 저장\n",
    "df = pd.DataFrame({'url':news_urls, 'title':news_titles, 'content':news_contents})\n",
    "df.to_csv('naver_news.csv', encoding = 'utf-8-sig')"
   ]
  },
  {
   "cell_type": "code",
   "execution_count": 14,
   "id": "c9fc4971",
   "metadata": {},
   "outputs": [
    {
     "name": "stdout",
     "output_type": "stream",
     "text": [
      "95\n",
      "2 [2보] 대전 대덕구 고등학교서 칼부림…40대 교사 병원 이송\n",
      "2 ‘묻지마 칼부림’ 유사범행 암시자들 속속 검거…“죄송합니다”\n",
      "2 당정 ‘묻지마 칼부림’에 가석방 없는 종신형 추진\n",
      "2 학교 교무실서 40대 교사에 칼부림 20대 \"사제지간이었다\"(종합)\n",
      "2 한 총리 \"잼버리 예비비 즉각 집행… 칼부림 사건 대책 조속히 마련\"\n"
     ]
    }
   ],
   "source": [
    "# 중복 값 확인\n",
    "test = set(news_titles)\n",
    "print(len(test))\n",
    "\n",
    "count = {}\n",
    "\n",
    "for i in news_titles:\n",
    "    try:\n",
    "        count[i] += 1\n",
    "    except:\n",
    "        count[i] = 1\n",
    "        \n",
    "for k,v in count.items():\n",
    "    if v > 1:\n",
    "        print(v, k)"
   ]
  },
  {
   "cell_type": "code",
   "execution_count": 23,
   "id": "8bfc8c3c",
   "metadata": {},
   "outputs": [],
   "source": [
    "# chrome 드라이버 닫기\n",
    "driver.close()"
   ]
  }
 ],
 "metadata": {
  "kernelspec": {
   "display_name": "Python 3 (ipykernel)",
   "language": "python",
   "name": "python3"
  },
  "language_info": {
   "codemirror_mode": {
    "name": "ipython",
    "version": 3
   },
   "file_extension": ".py",
   "mimetype": "text/x-python",
   "name": "python",
   "nbconvert_exporter": "python",
   "pygments_lexer": "ipython3",
   "version": "3.9.16"
  }
 },
 "nbformat": 4,
 "nbformat_minor": 5
}
