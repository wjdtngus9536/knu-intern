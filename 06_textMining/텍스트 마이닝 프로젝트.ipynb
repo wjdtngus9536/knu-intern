{
 "cells": [
  {
   "cell_type": "markdown",
   "id": "8837b3c9",
   "metadata": {},
   "source": [
    "1. 크롤링으로 제목, 컨텐츠 데이터 확보\n",
    "2. Cleaning(불용어, 동의어 사전 작성 등)\n",
    "3. 형태소 분석 통해 명사만 추출 Okt(Open Korean Text)\n",
    "4. 빈도 분석\n",
    "5. 시각화"
   ]
  },
  {
   "cell_type": "code",
   "execution_count": 31,
   "id": "7c7ba453",
   "metadata": {},
   "outputs": [],
   "source": [
    "import sys\n",
    "import os\n",
    "import pandas as pd\n",
    "import numpy as np\n",
    "\n",
    "from selenium import webdriver\n",
    "import time\n",
    "import tqdm\n",
    "from tqdm import tqdm_notebook"
   ]
  },
  {
   "cell_type": "code",
   "execution_count": 32,
   "id": "c28b94aa",
   "metadata": {},
   "outputs": [],
   "source": [
    "# selenium 입력용 변수\n",
    "query_txt=\"칼부림\"\n",
    "#\n",
    "start_date=\"20230731\"\n",
    "end_date=\"20200804\"\n",
    "\n",
    "# file 경로와 driver 경로를 같은 곳에 두는 경우 생략 가능\n",
    "# path = \"chromedriver.exe\"\n",
    "\n",
    "driver = webdriver.Chrome()\n",
    "driver.get('http://www.naver.com')\n",
    "time.sleep(2)\n",
    "\n",
    "element = driver.find_element_by_id(\"query\")\n",
    "element.send_keys(query_txt)\n",
    "element.submit()\n",
    "driver.find_element_by_link_text(\"뉴스\").click()"
   ]
  },
  {
   "cell_type": "code",
   "execution_count": 22,
   "id": "7ceb672e",
   "metadata": {},
   "outputs": [
    {
     "data": {
      "text/plain": [
       "'고속터미널역서 ‘흉기 소지’ 남성 체포…살인예고에 “특공대 배치”(종합)'"
      ]
     },
     "execution_count": 22,
     "metadata": {},
     "output_type": "execute_result"
    }
   ],
   "source": [
    "titles = \"a.news_tit\"\n",
    "article_raw = driver.find_elements_by_css_selector(titles)\n",
    "article_raw[0].text"
   ]
  },
  {
   "cell_type": "code",
   "execution_count": 16,
   "id": "bcc79053",
   "metadata": {},
   "outputs": [
    {
     "data": {
      "text/plain": [
       "'http://www.newsis.com/view/?id=NISX20230807_0002404478&cID=10814&pID=10800'"
      ]
     },
     "execution_count": 16,
     "metadata": {},
     "output_type": "execute_result"
    }
   ],
   "source": [
    "# overlays = \"._sp_each_url\" \n",
    "overlays = \"a.news_tit\" \n",
    "urls = driver.find_elements_by_css_selector(overlays)\n",
    "urls[0].get_attribute('href')"
   ]
  },
  {
   "cell_type": "code",
   "execution_count": 18,
   "id": "ee3a2af0",
   "metadata": {
    "collapsed": true
   },
   "outputs": [
    {
     "data": {
      "application/vnd.jupyter.widget-view+json": {
       "model_id": "a8c1bcf8d49a47148f635140909a28eb",
       "version_major": 2,
       "version_minor": 0
      },
      "text/plain": [
       "  0%|          | 0/10 [00:00<?, ?it/s]"
      ]
     },
     "metadata": {},
     "output_type": "display_data"
    },
    {
     "name": "stdout",
     "output_type": "stream",
     "text": [
      "분당 칼부림도, 교사 습격도… ‘치료 거부한 정신질환자’\n",
      "\"원주역서 칼부림\" 글 쓰고 \"제보한다\" 퍼뜨린 10대 붙잡혀(종합)\n",
      "\"고양 상가서 칼부림하겠다\" 예고글 올린 10대 검거\n",
      "[인터뷰] 범죄학자 \"칼부림 막는데 장갑차? 불안만 자극…과유불급\"\n",
      "'나도 관심 받을 수 있을까?'…'칼부림 예고'한 10대들 경찰 덜미\n",
      "분당 칼부림 피의자, 범행 전 휴대전화로 '칼·가스총' 검색\n",
      "광주·전남·제주공항 '칼부림 예고' 잇따라…1명 자수·1명 검거\n",
      "[뉴스룸에서] ‘묻지마 칼부림’ 공포에 앞서\n",
      "‘서현역 칼부림 사건’ 차에 친 여성 사망…피의자 혐의 ‘살인’으로 변경\n",
      "당근마켓에 올린 \"혜화역 칼부림하겠다\"…하루만에 잡혀\n",
      "‘나주에서 칼부림하겠다’…살인 예고 30대 검거\n",
      "인천 송도·강원 원주서 '무차별 칼부림' 예고...경찰 수사 중\n",
      "세종서 칼부림 예고 글 올린 10대 3명 검거\n",
      "“열차에 난동범 있다” 오인 신고…9호선 승객 대피소동\n",
      "\"칼부림? 집에서 오이나 썰어\" 이영지, 흉기 난동 예고에 분노\n",
      "서현역 칼부림男, ‘신림동 살인’ 검색했다… “회칼 든 고졸 배달원” 글도\n",
      "\"대전 은행동서 칼부림한다\"… 살인 예고글 올린 10대 덜미\n",
      "‘대전 고교 칼부림’ 20대 남성 ‘구속’\n",
      "\"하나도 안 멋있어, 오이나 썰어\"… 이영지, '묻지마 칼부림'에 분노\n",
      "“밖에 30㎝ 회칼 들고 다니는 23살 배달원”…‘분당 칼부림’ 피의자가 인터...\n",
      "이영지→박명수, 칼부림 난동에 일침 \"하나도 안 멋있어\" [스타이슈]\n",
      "대전 고등학교 칼부림 용의자, 7~8㎞ 떨어진 태평동 도로서 검거\n",
      "세종서 살인예고 글 올린 10대 잇따라 검거...\"세종 00중학교 칼부림\n",
      "“관심 끌고 싶어서”…원주역 흉기난동 자작극 10대 검거\n",
      "금요일 오리역·서현역 잇단 칼부림 예고글…경찰 수사(종합)\n",
      "전국서 '살인예고' 최소 42건…검거된 18명에 미성년자 여럿(종합)\n",
      "경찰, ‘묻지마 칼부림’ 피의자 구속영장 신청\n",
      "\"재미삼아\" \"심심해서\"…'살인예고' 작성 13명 검거\n",
      "BTS 슈가 타투 때문에…\"칼부림 났다\"던 지하철 9호선 대피소동 전말\n",
      "잇단 흉흉한 소식에 호신용품 찾는 사람들 급증\n",
      "한 총리 \"잼버리 예비비 즉각 집행… 칼부림 사건 대책 조속히 마련\"\n",
      "연이은 칼부림에 현직 경찰 \"국민 각자도생하라…방법 없다\"\n",
      "“잠실역서 20명 죽일 것” “오리역서 칼부림” 살인예고글 잇달아\n",
      "경산, 구미에서도 칼부림 예고 잇따라\n",
      "‘강북 피투성이 男’ 또 칼부림?…경찰 “자해 소동”\n",
      "대구 경찰 '대구 PC방 칼부림' 사실 아니다\n",
      "'칼부림 예고' 대학생 자수... 또 다른 게시자 추적 중\n",
      "\"서면 칼부림 예정\"…여친과 술 마시다 장난글 쓴 해군 일병 검거\n",
      "‘칼부림 예고 지도’까지 공유한다... 커지는 흉기테러 공포\n",
      "'신논현역 대피 소동' 일으킨 오인 신고, 원인은 BTS 라이브 방송?\n",
      "\"강남 성형외과서 노란머리 보면 공격\"…20대 잡히자 한 말은\n",
      "대학 게시판에 칼부림 예고한 20대 졸업생 검거\n",
      "서현역도 ‘묻지마 칼부림’…정치권, ‘가석방 없는 종신형’ 급물살\n",
      "칼부림 예고 글 작성자에 '살인 예비' 혐의 적용 첫 사례\n",
      "검찰, ‘혜화역 살인예고’ 30대 남성 구속영장 청구\n",
      "\"혜화역 칼부림 예고\" 30대 체포...살해 예고 글 작성자 18명 검거\n",
      "이번엔 할머니 3명 칼부림…아파트서 ‘공포의 비명’ 울렸다\n",
      "“열차에 난동범 있다” 아수라장 된 신논현역···경찰·소방 “오인 신고로...\n",
      "\"다 찌르겠다\" 분당·강남·의정부·부산까지…전국민 칼부림 '패닉'\n",
      "대전 대덕구 고등학교서 칼부림…교사 피습\n",
      "경찰 \"서현역 칼부림 피의자, 분열성 성격장애 진단\"\n",
      "익명커뮤니티 대구대 게시판에 ‘칼부림 예고’ 20대 검거\n",
      "\"강력범죄 적은 한국이?\"…`묻지마` 칼부림 난동에 외신도 놀랐다\n",
      "대전 대덕구 고등학교서 칼부림…40대 교사 병원 이송\n",
      "온라인에 퍼지는 살인 예고 최소 42건…미성년자 작성자도 여럿\n",
      "\"내일 원주역 칼부림\" 예고글..경찰 강력 대응\n",
      "\"전 여친 집 근처서 칼부림한다\" 곳곳 '살인예고' 글 잇따라(종합)\n",
      "“치안 강국 맞아?”..한국서 벌어진 ‘묻지마 연쇄 칼부림’에 외신도 놀랐다\n",
      "코맥스, 주가 급등…칼부림 사건에 CCTV 관련주 들썩\n",
      "대전 대덕구 A고교에서 칼부림…교사 피습·피의자 도주\n",
      "대전 고교 40대 교사에 칼부림한 20대는 제자…진입 제지 없었다\n",
      "'교내 칼부림' 발생 대전서 흉기 들고 거리 배회 남성 신고 접수\n",
      "[포토뉴스] 라이온즈파크 칼부림 예고로 경찰병력 강화\n",
      "경기 분당 서현역 ‘묻지마 칼부림’에 14명 부상…공포에 떠는 도심\n",
      "\"다음엔 구미역 칼부림이다\" 흉기 난동 예고 10대 경찰에 덜미\n",
      "‘신림 칼부림’ 남성만 노렸는데…‘분당 흉기난동’은 분명 달랐다\n",
      "\"장난으로\"·\"술취해서\"…'살인 예고글' 올린 13명 검거\n",
      "‘묻지마 칼부림 예고’ 대구경북도 잇따라…야구장에 장갑차까지 등장\n",
      "'신림동·서현역 칼부림' 불안감 확산...세종경찰, 총력 경계 태세\n",
      "'칼부림 예고글' 청주에 맞게 조작해 SNS 유포했던 30대 자수\n",
      "서면·잠실·강남·의정부…'오늘 칼부림 예고 목록'에 인근 주민 공포\n",
      "'서현역 칼부림' 피의자, 오늘 구속 여부 결정…곧 신상 공개 검토\n",
      "당정 ‘묻지마 흉기 난동’에 가석방 없는 종신형 검토\n",
      "[속보]'20분 남았다' 의정부역·대치동 시대인재학원 칼부림 예고\n",
      "인천 '묻지마 칼부림' 예고에 경찰 '비상근무체제' 돌입...촉각\n",
      "대구·포천서도 칼부림? 이제는 허위 목격담도…경찰 \"가짜뉴스 엄정대응\"\n",
      "검찰, 신림역·서현역 칼부림 사건 전담수사팀 구성\n",
      "\"여기가 칼부림 왕국이냐?\" 금요일 6곳, 토요일 2곳 협박글\n",
      "\"관심받고 싶어서\"...'원주역 칼부림' 셀프제보 10대 검거\n",
      "김포경찰서, 칼부림 모방범죄 예방 ‘합동순찰활동’\n",
      "분당서 차량돌진 뒤 칼부림…부상자 14명중 12명 중상\n",
      "'분당 묻지마 흉기 난동' 피해자 중 2명 뇌사 가능성\n",
      "무장경찰까지 배치했지만… “내가 당할 수도” 호신용품 불티 [‘묻지마 흉기...\n",
      "수유역 인근 '피투성이' 남성 신고...\"칼부림 아닌 자해 시도\"\n",
      "대전 대덕구 고등학교서 칼부림… 20대 후반 남성 체포\n",
      "신림동 칼부림 모방 '살인예고' 7건... 경찰, 전담팀 구성\n",
      "[속보] 경산지역 대학교 익명 게시판 '칼부림 예고' 20대 남성 검거\n",
      "칼부림 사건 \"알아서 각자도생 하라\"는 경찰관의 글에 공감 쏟아진 이유\n",
      "\"다 쑤시러 간다\" \"죽여줄게, XX야\"…부산·의정부도 살인 예고 글\n",
      "서현역 칼부림男 \"날 청부살인하려 해\" 횡설수설…마약은 '음성'\n",
      "고속터미널역서 ‘흉기 소지’ 남성 체포…살인예고에 “특공대 배치”(종합)\n",
      "\"일단 도망…찔리면 칼 빼지 마라\" 흉기난동서 생존하려면\n",
      "칼부림 막는다…‘가스총’·‘3단봉’ 무장\n",
      "“대낮 수유동서 피 흘리는 남성” 112 신고... 칼부림 아닌 ‘자해 소동’\n",
      "소방당국 \"분당 서현역 흉기 난동 14명 중 2명 뇌사 가능성\"\n",
      "칼부림 예고 글, 보안 강화된 지하철역\n",
      "'살인예고, 올리면 잡힌다'…경찰 \"19명 검거·협박 죄 등 처벌\"(종합)\n",
      "[1보]대전 대덕구 고등학교서 칼부림…교사 피습\n",
      "[사설] 누구나 표적되는 ‘묻지마 칼부림’이 일상인 세상\n",
      "\"우려가 현실로\"…서현 '묻지마 칼부림'에 시민들 '비명' [현장+]\n",
      "url갯수:  100\n"
     ]
    }
   ],
   "source": [
    "url_list = []\n",
    "title_list = []\n",
    "\n",
    "total_page = 10\n",
    "for i in tqdm_notebook(range(0, total_page)):\n",
    "    i = i * 10 + 1\n",
    "    url = \"https://search.naver.com/search.naver?where=news&sm=tab_pge&query=%EC%B9%BC%EB%B6%80%EB%A6%BC&sort=0&photo=0&field=0&pd=0&ds=&de=&cluster_rank=30&mynews=0&office_type=0&office_section_code=0&news_office_checked=&nso=so:r,p:all,a:all&start={1}1\".format(query_txt, i)\n",
    "    driver.get(url)\n",
    "    time.sleep(0.5)\n",
    "    \n",
    "    \n",
    "    titles = \"a.news_tit\"\n",
    "    articles = \"a.news_tit\"\n",
    "    article_raw = driver.find_elements_by_css_selector(titles)\n",
    "    article_list = driver.find_elements_by_css_selector(articles)\n",
    "   \n",
    "    # url 크롤링 시작\n",
    "    for article in article_raw:\n",
    "        url = article.get_attribute('href')   \n",
    "        url_list.append(url)\n",
    "    \n",
    "    # 제목 크롤링 시작    \n",
    "    for article in article_raw:\n",
    "        title = article.text   \n",
    "        title_list.append(title)\n",
    "    \n",
    "        print(title)\n",
    "    \n",
    "print('url갯수: ', len(url_list))\n",
    "\n",
    "df = pd.DataFrame({'url':url_list, 'title':title_list})\n",
    "\n",
    "# 저장하기\n",
    "df.to_csv(\"news_url.csv\")"
   ]
  },
  {
   "cell_type": "markdown",
   "id": "cecf9250",
   "metadata": {},
   "source": [
    "## 네이버 뉴스 텍스트 분석 "
   ]
  },
  {
   "cell_type": "code",
   "execution_count": 25,
   "id": "bb110d4c",
   "metadata": {},
   "outputs": [],
   "source": [
    "import scipy as sp\n",
    "import pandas as dp\n",
    "import numpy as np\n",
    "\n",
    "from sklearn.feature_extraction.text import CountVectorizer\n",
    "from sklearn.feature_extraction.text import TfidfVectorizer\n",
    "from sklearn.linear_model import LogisticRegression\n",
    "from sklearn.pipeline import Pipeline\n",
    "from sklearn.metrics import accuracy_score\n",
    "from sklearn.model_selection import train_test_split\n",
    "\n",
    "%matplotlib inline\n",
    "import os\n",
    "import matplotlib.pyplot as plt\n",
    "import seaborn as sns\n",
    "import graphviz\n",
    "from sklearn.tree import export_graphviz\n",
    "\n",
    "# 그래프에서 한글 폰트 깨지는 문제(전역 글꼴 설정)\n",
    "from matplotlib import font_manager, rc\n",
    "font_name = font_manager.FontProperties(fname = 'C:\\Windows\\Fonts\\malgun.ttf').get_name()\n",
    "rc('font', family = font_name)\n",
    "\n",
    "# 워닝 없애주기\n",
    "import warnings\n",
    "\n",
    "# 한글 자연어 처리 라이브러리\n",
    "from konlpy.tag import Kkma\n",
    "from konlpy.tag import Hannanum\n",
    "from konlpy.tag import Okt\n",
    "from konlpy.tag import *\n",
    "import pickle\n",
    "\n",
    "kkma = Kkma()\n",
    "hannanum = Hannanum()\n",
    "t = Okt()"
   ]
  },
  {
   "cell_type": "code",
   "execution_count": 29,
   "id": "2479dad3",
   "metadata": {},
   "outputs": [
    {
     "name": "stdout",
     "output_type": "stream",
     "text": [
      "0               분당 칼부림도, 교사 습격도… ‘치료 거부한 정신질환자’\n",
      "1        \"원주역서 칼부림\" 글 쓰고 \"제보한다\" 퍼뜨린 10대 붙잡혀(종합)\n",
      "2                 \"고양 상가서 칼부림하겠다\" 예고글 올린 10대 검거\n",
      "3         [인터뷰] 범죄학자 \"칼부림 막는데 장갑차? 불안만 자극…과유불급\"\n",
      "4        '나도 관심 받을 수 있을까?'…'칼부림 예고'한 10대들 경찰 덜미\n",
      "                        ...                    \n",
      "95                        칼부림 예고 글, 보안 강화된 지하철역\n",
      "96    '살인예고, 올리면 잡힌다'…경찰 \"19명 검거·협박 죄 등 처벌\"(종합)\n",
      "97                   [1보]대전 대덕구 고등학교서 칼부림…교사 피습\n",
      "98              [사설] 누구나 표적되는 ‘묻지마 칼부림’이 일상인 세상\n",
      "99       \"우려가 현실로\"…서현 '묻지마 칼부림'에 시민들 '비명' [현장+]\n",
      "Name: title, Length: 100, dtype: object\n"
     ]
    }
   ],
   "source": [
    "df_r = pd.read_csv('news_url.csv')\n",
    "print(df_r['title'])"
   ]
  }
 ],
 "metadata": {
  "kernelspec": {
   "display_name": "Python 3 (ipykernel)",
   "language": "python",
   "name": "python3"
  },
  "language_info": {
   "codemirror_mode": {
    "name": "ipython",
    "version": 3
   },
   "file_extension": ".py",
   "mimetype": "text/x-python",
   "name": "python",
   "nbconvert_exporter": "python",
   "pygments_lexer": "ipython3",
   "version": "3.9.16"
  }
 },
 "nbformat": 4,
 "nbformat_minor": 5
}
